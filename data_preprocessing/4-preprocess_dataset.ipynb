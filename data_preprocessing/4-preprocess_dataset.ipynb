{
 "cells": [
  {
   "cell_type": "code",
   "metadata": {
    "ExecuteTime": {
     "end_time": "2025-05-28T17:36:14.454927Z",
     "start_time": "2025-05-28T17:36:14.268963Z"
    }
   },
   "source": [
    "import torch\n",
    "from utils.helper import ObjectView\n",
    "from utils.config import config_dataset"
   ],
   "outputs": [],
   "execution_count": 13
  },
  {
   "cell_type": "code",
   "metadata": {
    "ExecuteTime": {
     "end_time": "2025-05-28T17:36:14.459293Z",
     "start_time": "2025-05-28T17:36:14.457476Z"
    }
   },
   "source": [
    "args = ObjectView(config_dataset)"
   ],
   "outputs": [],
   "execution_count": 14
  },
  {
   "cell_type": "code",
   "metadata": {
    "ExecuteTime": {
     "end_time": "2025-05-28T17:36:14.484477Z",
     "start_time": "2025-05-28T17:36:14.468244Z"
    }
   },
   "source": [
    "loads = torch.load(\"../data/Pecan Street Smart Meter Data (large) (tensor)/loads_raw.pt\")\n",
    "cond = torch.load(\"../data/Pecan Street Smart Meter Data (large) (tensor)/cond_raw.pt\")\n",
    "PV_base = torch.load(\"../data/Pecan Street Smart Meter Data (large) (tensor)/PV_base_raw.pt\")\n"
   ],
   "outputs": [],
   "execution_count": 15
  },
  {
   "cell_type": "code",
   "metadata": {
    "ExecuteTime": {
     "end_time": "2025-05-28T17:36:14.495994Z",
     "start_time": "2025-05-28T17:36:14.494312Z"
    }
   },
   "source": [
    "print(loads.shape)\n",
    "print(cond.shape)\n",
    "print(PV_base.shape)"
   ],
   "outputs": [
    {
     "name": "stdout",
     "output_type": "stream",
     "text": [
      "torch.Size([30, 365, 96])\n",
      "torch.Size([30, 365, 84])\n",
      "torch.Size([7, 365, 96])\n"
     ]
    }
   ],
   "execution_count": 16
  },
  {
   "cell_type": "code",
   "metadata": {
    "ExecuteTime": {
     "end_time": "2025-05-28T17:36:14.511948Z",
     "start_time": "2025-05-28T17:36:14.505397Z"
    }
   },
   "source": [
    "\n",
    "# Sampling\n",
    "loads = loads[:args.num_class, :args.day_len, :]\n",
    "cond = cond[:args.num_class, :args.day_len, :args.cond_dim]\n",
    "PV_base = PV_base[:args.day_len]\n",
    "# PV_base = torch.repeat_interleave(PV_base, repeats=args.num_class, dim=1)\n",
    "PV_base = PV_base.permute(1, 0, 2)\n",
    "X = torch.empty_like(loads)\n",
    "for i in range(loads.shape[0]):\n",
    "    load = loads[i]\n",
    "    min_val = load.min()\n",
    "    max_val = load.max()\n",
    "    X[i] = 2 * (load - min_val) / (max_val - min_val) -1\n",
    "\n",
    "print(X.shape)\n",
    "print(PV_base.shape)\n",
    "print(cond.shape)\n",
    "\n"
   ],
   "outputs": [
    {
     "name": "stdout",
     "output_type": "stream",
     "text": [
      "torch.Size([30, 365, 96])\n",
      "torch.Size([365, 7, 96])\n",
      "torch.Size([30, 365, 79])\n"
     ]
    }
   ],
   "execution_count": 17
  },
  {
   "cell_type": "code",
   "metadata": {
    "ExecuteTime": {
     "end_time": "2025-05-28T17:36:14.523388Z",
     "start_time": "2025-05-28T17:36:14.521239Z"
    }
   },
   "source": [
    "cond[1][0]"
   ],
   "outputs": [
    {
     "data": {
      "text/plain": [
       "tensor([5.7600, 2.8800, 2.8800, 0.0000, 0.0000, 1.0000, 0.0000, 0.0000, 0.0000,\n",
       "        0.0000, 0.0000, 0.0000, 0.0000, 0.0000, 0.0000, 0.0000, 0.0000, 0.0000,\n",
       "        0.0000, 0.0000, 0.0000, 0.0000, 0.0000, 0.0000, 0.0000, 0.0000, 0.0000,\n",
       "        0.0000, 0.0000, 0.0000, 0.0000, 0.0000, 0.0000, 0.0000, 1.0000, 0.0000,\n",
       "        0.0000, 0.0000, 0.0000, 0.0000, 0.0000, 0.0000, 0.0000, 0.0000, 0.0000,\n",
       "        0.0000, 1.0000, 0.0000, 0.0000, 0.0000, 0.0000, 0.0000, 0.0000, 1.0000,\n",
       "        0.0000, 0.0000, 0.0000, 0.0000, 0.0000, 0.0000, 0.0000, 0.0000, 0.0000,\n",
       "        0.0000, 0.0000, 0.0000, 0.0000, 0.0000, 0.0000, 0.0000, 0.0000, 0.0000,\n",
       "        0.0000, 0.0000, 0.0000, 0.0000, 0.0000, 0.0000, 0.0000])"
      ]
     },
     "execution_count": 18,
     "metadata": {},
     "output_type": "execute_result"
    }
   ],
   "execution_count": 18
  },
  {
   "cell_type": "code",
   "metadata": {
    "ExecuteTime": {
     "end_time": "2025-05-28T17:36:14.549012Z",
     "start_time": "2025-05-28T17:36:14.533107Z"
    }
   },
   "source": [
    "X_train = []\n",
    "X_test = []\n",
    "cond_train = []\n",
    "cond_test = []\n",
    "PV_base_train = []\n",
    "PV_base_test = []\n",
    "for i in range(args.num_class):\n",
    "    indices = torch.randperm(args.day_len)\n",
    "    train_size = int(args.train_ratio * args.day_len)\n",
    "    test_size = args.day_len - train_size\n",
    "    train_indices, test_indices = indices[:train_size], indices[train_size:]\n",
    "    X_train.append(X[i][train_indices])\n",
    "    X_test.append(X[i][test_indices])\n",
    "    cond_train.append(cond[i][train_indices])\n",
    "    cond_test.append(cond[i][test_indices])\n",
    "    PV_base_train.append(PV_base[train_indices])\n",
    "    PV_base_test.append(PV_base[test_indices])\n",
    "\n",
    "X_train = torch.stack(X_train)\n",
    "X_test = torch.stack(X_test)\n",
    "cond_train = torch.stack(cond_train)\n",
    "cond_test = torch.stack(cond_test)\n",
    "PV_base_train = torch.stack(PV_base_train)\n",
    "PV_base_test = torch.stack(PV_base_test)\n"
   ],
   "outputs": [],
   "execution_count": 19
  },
  {
   "cell_type": "code",
   "metadata": {
    "ExecuteTime": {
     "end_time": "2025-05-28T17:36:14.569212Z",
     "start_time": "2025-05-28T17:36:14.566592Z"
    }
   },
   "source": [
    "X_train.shape, X_test.shape, cond_train.shape, cond_test.shape, PV_base_train.shape, PV_base_test.shape"
   ],
   "outputs": [
    {
     "data": {
      "text/plain": [
       "(torch.Size([30, 292, 96]),\n",
       " torch.Size([30, 73, 96]),\n",
       " torch.Size([30, 292, 79]),\n",
       " torch.Size([30, 73, 79]),\n",
       " torch.Size([30, 292, 7, 96]),\n",
       " torch.Size([30, 73, 7, 96]))"
      ]
     },
     "execution_count": 20,
     "metadata": {},
     "output_type": "execute_result"
    }
   ],
   "execution_count": 20
  },
  {
   "cell_type": "code",
   "metadata": {
    "ExecuteTime": {
     "end_time": "2025-05-28T17:36:14.588303Z",
     "start_time": "2025-05-28T17:36:14.585893Z"
    }
   },
   "source": [
    "\n",
    "X_train = X_train.reshape(-1, X_train.shape[-1])\n",
    "X_test = X_test.reshape(-1, X_test.shape[-1])\n",
    "cond_train = cond_train.reshape(-1, cond_train.shape[-1])\n",
    "cond_test = cond_test.reshape(-1, cond_test.shape[-1])\n",
    "PV_base_train = PV_base_train.reshape(-1, PV_base_train.shape[-2], PV_base_train.shape[-1])\n",
    "PV_base_test = PV_base_test.reshape(-1, PV_base_train.shape[-2], PV_base_test.shape[-1])"
   ],
   "outputs": [],
   "execution_count": 21
  },
  {
   "cell_type": "code",
   "metadata": {
    "ExecuteTime": {
     "end_time": "2025-05-28T17:36:14.600150Z",
     "start_time": "2025-05-28T17:36:14.597739Z"
    }
   },
   "source": [
    "X_train.shape, X_test.shape, cond_train.shape, cond_test.shape, PV_base_train.shape, PV_base_test.shape"
   ],
   "outputs": [
    {
     "data": {
      "text/plain": [
       "(torch.Size([8760, 96]),\n",
       " torch.Size([2190, 96]),\n",
       " torch.Size([8760, 79]),\n",
       " torch.Size([2190, 79]),\n",
       " torch.Size([8760, 7, 96]),\n",
       " torch.Size([2190, 7, 96]))"
      ]
     },
     "execution_count": 22,
     "metadata": {},
     "output_type": "execute_result"
    }
   ],
   "execution_count": 22
  },
  {
   "cell_type": "code",
   "metadata": {
    "ExecuteTime": {
     "end_time": "2025-05-28T17:36:14.612319Z",
     "start_time": "2025-05-28T17:36:14.609997Z"
    }
   },
   "source": [
    "num_class = config_dataset[\"num_class\"]\n",
    "\n",
    "def denorm(x):\n",
    "    loads = torch.load(\"../data/Pecan Street Smart Meter Data (large) (tensor)/loads_raw.pt\")\n",
    "    lmin = []\n",
    "    lmax = []\n",
    "    for i in range(loads.shape[0]):\n",
    "        load = loads[i]\n",
    "        lmin.append(load.min())\n",
    "        lmax.append(load.max())\n",
    "    lmin = torch.stack(lmin)[:num_class]\n",
    "    lmax = torch.stack(lmax)[:num_class]\n",
    "    lmin = lmin.unsqueeze(1).repeat(1, int(x.shape[0]/num_class))\n",
    "    lmax = lmax.unsqueeze(1).repeat(1, int(x.shape[0]/num_class))\n",
    "    lmin = lmin.reshape((-1, 1))\n",
    "    lmax = lmax.reshape((-1, 1))\n",
    "    return (x + 1) * (lmax - lmin)/ 2 + lmin"
   ],
   "outputs": [],
   "execution_count": 23
  },
  {
   "cell_type": "code",
   "metadata": {
    "ExecuteTime": {
     "end_time": "2025-05-28T17:36:14.663244Z",
     "start_time": "2025-05-28T17:36:14.621221Z"
    }
   },
   "source": [
    "torch.save(X_train, \"../data/Pecan Street Smart Meter Data (large) (tensor)/X_train.pt\")\n",
    "torch.save(X_test, \"../data/Pecan Street Smart Meter Data (large) (tensor)/X_test.pt\")\n",
    "torch.save(cond_train, \"../data/Pecan Street Smart Meter Data (large) (tensor)/cond_train.pt\")\n",
    "torch.save(cond_test, \"../data/Pecan Street Smart Meter Data (large) (tensor)/cond_test.pt\")\n",
    "torch.save(PV_base_train, \"../data/Pecan Street Smart Meter Data (large) (tensor)/PV_base_train.pt\")\n",
    "torch.save(PV_base_test, \"../data/Pecan Street Smart Meter Data (large) (tensor)/PV_base_test.pt\")\n",
    "torch.save(denorm(X_test), \"../data/Pecan Street Smart Meter Data (large) (tensor)/load_test.pt\")\n",
    "torch.save(denorm(X_train), \"../data/Pecan Street Smart Meter Data (large) (tensor)/load_train.pt\")"
   ],
   "outputs": [],
   "execution_count": 24
  }
 ],
 "metadata": {
  "kernelspec": {
   "display_name": "hnn",
   "language": "python",
   "name": "python3"
  },
  "language_info": {
   "codemirror_mode": {
    "name": "ipython",
    "version": 3
   },
   "file_extension": ".py",
   "mimetype": "text/x-python",
   "name": "python",
   "nbconvert_exporter": "python",
   "pygments_lexer": "ipython3",
   "version": "3.10.13"
  }
 },
 "nbformat": 4,
 "nbformat_minor": 2
}
