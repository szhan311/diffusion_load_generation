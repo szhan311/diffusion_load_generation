{
 "cells": [
  {
   "cell_type": "code",
   "execution_count": 9,
   "metadata": {},
   "outputs": [],
   "source": [
    "import torch\n",
    "import torch.nn as nn\n",
    "import numpy as np\n",
    "from sklearn.decomposition import PCA\n",
    "from sklearn.manifold import TSNE\n",
    "import matplotlib.pyplot as plt\n",
    "from sklearn.metrics import mean_absolute_error, mean_squared_error\n",
    "from utils.metric import *\n",
    "# import properscoring as ps\n",
    "from tqdm import tqdm\n",
    "plt.rcParams['font.family'] = 'Times New Roman'"
   ]
  },
  {
   "cell_type": "code",
   "execution_count": 10,
   "metadata": {},
   "outputs": [
    {
     "name": "stderr",
     "output_type": "stream",
     "text": [
      "/tmp/ipykernel_13898/2687782414.py:2: FutureWarning: You are using `torch.load` with `weights_only=False` (the current default value), which uses the default pickle module implicitly. It is possible to construct malicious pickle data which will execute arbitrary code during unpickling (See https://github.com/pytorch/pytorch/blob/main/SECURITY.md#untrusted-models for more details). In a future release, the default value for `weights_only` will be flipped to `True`. This limits the functions that could be executed during unpickling. Arbitrary objects will no longer be allowed to be loaded via this mode unless they are explicitly allowlisted by the user via `torch.serialization.add_safe_globals`. We recommend you start setting `weights_only=True` for any use case where you don't have full control of the loaded file. Please open an issue on GitHub for any issues related to this experimental feature.\n",
      "  X = torch.load(\"./data/load_test.pt\").unsqueeze(1).repeat(1, M, 1)\n",
      "/tmp/ipykernel_13898/2687782414.py:3: FutureWarning: You are using `torch.load` with `weights_only=False` (the current default value), which uses the default pickle module implicitly. It is possible to construct malicious pickle data which will execute arbitrary code during unpickling (See https://github.com/pytorch/pytorch/blob/main/SECURITY.md#untrusted-models for more details). In a future release, the default value for `weights_only` will be flipped to `True`. This limits the functions that could be executed during unpickling. Arbitrary objects will no longer be allowed to be loaded via this mode unless they are explicitly allowlisted by the user via `torch.serialization.add_safe_globals`. We recommend you start setting `weights_only=True` for any use case where you don't have full control of the loaded file. Please open an issue on GitHub for any issues related to this experimental feature.\n",
      "  X_hat_gan = torch.load(\"./result/data/load_hat_gan.pt\")[:, :M, :]\n",
      "/tmp/ipykernel_13898/2687782414.py:4: FutureWarning: You are using `torch.load` with `weights_only=False` (the current default value), which uses the default pickle module implicitly. It is possible to construct malicious pickle data which will execute arbitrary code during unpickling (See https://github.com/pytorch/pytorch/blob/main/SECURITY.md#untrusted-models for more details). In a future release, the default value for `weights_only` will be flipped to `True`. This limits the functions that could be executed during unpickling. Arbitrary objects will no longer be allowed to be loaded via this mode unless they are explicitly allowlisted by the user via `torch.serialization.add_safe_globals`. We recommend you start setting `weights_only=True` for any use case where you don't have full control of the loaded file. Please open an issue on GitHub for any issues related to this experimental feature.\n",
      "  X_hat_diff_base = torch.load(\"./result/data/load_hat_diff_base.pt\")[:, :M, :]\n",
      "/tmp/ipykernel_13898/2687782414.py:5: FutureWarning: You are using `torch.load` with `weights_only=False` (the current default value), which uses the default pickle module implicitly. It is possible to construct malicious pickle data which will execute arbitrary code during unpickling (See https://github.com/pytorch/pytorch/blob/main/SECURITY.md#untrusted-models for more details). In a future release, the default value for `weights_only` will be flipped to `True`. This limits the functions that could be executed during unpickling. Arbitrary objects will no longer be allowed to be loaded via this mode unless they are explicitly allowlisted by the user via `torch.serialization.add_safe_globals`. We recommend you start setting `weights_only=True` for any use case where you don't have full control of the loaded file. Please open an issue on GitHub for any issues related to this experimental feature.\n",
      "  X_hat_diff_phy = torch.load(\"./result/data/load_hat_diff_phy.pt\")[:, :M, :]\n",
      "/tmp/ipykernel_13898/2687782414.py:6: FutureWarning: You are using `torch.load` with `weights_only=False` (the current default value), which uses the default pickle module implicitly. It is possible to construct malicious pickle data which will execute arbitrary code during unpickling (See https://github.com/pytorch/pytorch/blob/main/SECURITY.md#untrusted-models for more details). In a future release, the default value for `weights_only` will be flipped to `True`. This limits the functions that could be executed during unpickling. Arbitrary objects will no longer be allowed to be loaded via this mode unless they are explicitly allowlisted by the user via `torch.serialization.add_safe_globals`. We recommend you start setting `weights_only=True` for any use case where you don't have full control of the loaded file. Please open an issue on GitHub for any issues related to this experimental feature.\n",
      "  X_hat_vae = torch.load(\"./result/data/load_hat_vae.pt\")[:, :M, :]\n",
      "/tmp/ipykernel_13898/2687782414.py:7: FutureWarning: You are using `torch.load` with `weights_only=False` (the current default value), which uses the default pickle module implicitly. It is possible to construct malicious pickle data which will execute arbitrary code during unpickling (See https://github.com/pytorch/pytorch/blob/main/SECURITY.md#untrusted-models for more details). In a future release, the default value for `weights_only` will be flipped to `True`. This limits the functions that could be executed during unpickling. Arbitrary objects will no longer be allowed to be loaded via this mode unless they are explicitly allowlisted by the user via `torch.serialization.add_safe_globals`. We recommend you start setting `weights_only=True` for any use case where you don't have full control of the loaded file. Please open an issue on GitHub for any issues related to this experimental feature.\n",
      "  X_hat_nf = torch.load(\"./result/data/load_hat_nf.pt\")[:, :M, :]\n"
     ]
    }
   ],
   "source": [
    "M = 20\n",
    "X = torch.load(\"./data/load_test.pt\").unsqueeze(1).repeat(1, M, 1)\n",
    "X_hat_gan = torch.load(\"./result/data/load_hat_gan.pt\")[:, :M, :]\n",
    "X_hat_diff_base = torch.load(\"./result/data/load_hat_diff_base.pt\")[:, :M, :]\n",
    "X_hat_diff_phy = torch.load(\"./result/data/load_hat_diff_phy.pt\")[:, :M, :]\n",
    "X_hat_vae = torch.load(\"./result/data/load_hat_vae.pt\")[:, :M, :]\n",
    "X_hat_nf = torch.load(\"./result/data/load_hat_nf.pt\")[:, :M, :]"
   ]
  },
  {
   "cell_type": "code",
   "execution_count": 11,
   "metadata": {},
   "outputs": [],
   "source": [
    "X_max = torch.max(X[:, 0, :], dim=1)\n",
    "X_min = torch.min(X[:, 0, :], dim=1)"
   ]
  },
  {
   "cell_type": "code",
   "execution_count": 14,
   "metadata": {},
   "outputs": [
    {
     "data": {
      "text/plain": [
       "2190"
      ]
     },
     "execution_count": 14,
     "metadata": {},
     "output_type": "execute_result"
    }
   ],
   "source": [
    "len(X)"
   ]
  },
  {
   "cell_type": "code",
   "execution_count": 12,
   "metadata": {},
   "outputs": [],
   "source": [
    "\n",
    "low_th = np.percentile(X_min.values, 1)\n",
    "high_th = np.percentile(X_max.values, 99)\n",
    "extreme_low = np.where(X_min.values < low_th)\n",
    "extreme_high = np.where(X_max.values > high_th)"
   ]
  },
  {
   "cell_type": "code",
   "execution_count": 17,
   "metadata": {},
   "outputs": [
    {
     "data": {
      "text/plain": [
       "(array([1833, 1847, 1849, 1850, 1858, 1861, 1864, 1866, 1873, 1874, 1875,\n",
       "        1877, 1878, 1881, 1882, 1884, 1885, 1886, 1887, 1888, 1889, 1897]),)"
      ]
     },
     "execution_count": 17,
     "metadata": {},
     "output_type": "execute_result"
    }
   ],
   "source": [
    "extreme_low"
   ]
  },
  {
   "cell_type": "code",
   "execution_count": 6,
   "metadata": {},
   "outputs": [],
   "source": [
    "def evaluation(X, X_hat):\n",
    "    TS = X.shape[0] # num of test data\n",
    "    M = X.shape[1] # num of senarios\n",
    "    T = X.shape[2]\n",
    "    # MAE; RMSE\n",
    "    MAE = 0\n",
    "    RMSE = 0\n",
    "    \n",
    "    for i in tqdm(range(TS)):\n",
    "        for j in range(M):\n",
    "            x = X[i, j, :]\n",
    "            x_hat = X_hat[i, j, :]\n",
    "            MAE = MAE + mean_absolute_error(x,x_hat)\n",
    "            RMSE = RMSE + mean_squared_error(x, x_hat)\n",
    "    MAE = MAE / (TS * M)\n",
    "    RMSE = RMSE / (TS * M)\n",
    "    print(f'MAE: {MAE:.4f}')\n",
    "    print(f'RMSE: {RMSE:.4f}')"
   ]
  },
  {
   "cell_type": "code",
   "execution_count": 7,
   "metadata": {},
   "outputs": [
    {
     "name": "stderr",
     "output_type": "stream",
     "text": [
      "100%|██████████| 22/22 [00:00<00:00, 119.76it/s]\n"
     ]
    },
    {
     "name": "stdout",
     "output_type": "stream",
     "text": [
      "MAE: 1.1140\n",
      "RMSE: 2.4867\n"
     ]
    },
    {
     "name": "stderr",
     "output_type": "stream",
     "text": [
      "100%|██████████| 22/22 [00:00<00:00, 125.24it/s]\n"
     ]
    },
    {
     "name": "stdout",
     "output_type": "stream",
     "text": [
      "MAE: 1.1262\n",
      "RMSE: 2.5243\n"
     ]
    },
    {
     "name": "stderr",
     "output_type": "stream",
     "text": [
      "100%|██████████| 22/22 [00:00<00:00, 123.47it/s]\n"
     ]
    },
    {
     "name": "stdout",
     "output_type": "stream",
     "text": [
      "MAE: 1.2851\n",
      "RMSE: 3.7029\n"
     ]
    },
    {
     "name": "stderr",
     "output_type": "stream",
     "text": [
      "100%|██████████| 22/22 [00:00<00:00, 125.45it/s]\n"
     ]
    },
    {
     "name": "stdout",
     "output_type": "stream",
     "text": [
      "MAE: 1.1352\n",
      "RMSE: 2.0371\n"
     ]
    },
    {
     "name": "stderr",
     "output_type": "stream",
     "text": [
      "100%|██████████| 22/22 [00:00<00:00, 124.08it/s]"
     ]
    },
    {
     "name": "stdout",
     "output_type": "stream",
     "text": [
      "MAE: 0.7988\n",
      "RMSE: 1.0268\n"
     ]
    },
    {
     "name": "stderr",
     "output_type": "stream",
     "text": [
      "\n"
     ]
    }
   ],
   "source": [
    "evaluation(X[extreme_low], X_hat_gan[extreme_low])\n",
    "evaluation(X[extreme_low], X_hat_vae[extreme_low])\n",
    "evaluation(X[extreme_low], X_hat_nf[extreme_low])\n",
    "evaluation(X[extreme_low], X_hat_diff_base[extreme_low])\n",
    "evaluation(X[extreme_low], X_hat_diff_phy[extreme_low])"
   ]
  },
  {
   "cell_type": "code",
   "execution_count": 8,
   "metadata": {},
   "outputs": [
    {
     "name": "stderr",
     "output_type": "stream",
     "text": [
      "100%|██████████| 22/22 [00:00<00:00, 120.95it/s]\n"
     ]
    },
    {
     "name": "stdout",
     "output_type": "stream",
     "text": [
      "MAE: 1.6429\n",
      "RMSE: 5.0224\n"
     ]
    },
    {
     "name": "stderr",
     "output_type": "stream",
     "text": [
      "100%|██████████| 22/22 [00:00<00:00, 127.66it/s]\n"
     ]
    },
    {
     "name": "stdout",
     "output_type": "stream",
     "text": [
      "MAE: 1.6200\n",
      "RMSE: 4.8953\n"
     ]
    },
    {
     "name": "stderr",
     "output_type": "stream",
     "text": [
      "100%|██████████| 22/22 [00:00<00:00, 127.87it/s]\n"
     ]
    },
    {
     "name": "stdout",
     "output_type": "stream",
     "text": [
      "MAE: 1.7573\n",
      "RMSE: 5.8760\n"
     ]
    },
    {
     "name": "stderr",
     "output_type": "stream",
     "text": [
      "100%|██████████| 22/22 [00:00<00:00, 127.67it/s]\n"
     ]
    },
    {
     "name": "stdout",
     "output_type": "stream",
     "text": [
      "MAE: 1.5714\n",
      "RMSE: 4.0944\n"
     ]
    },
    {
     "name": "stderr",
     "output_type": "stream",
     "text": [
      "100%|██████████| 22/22 [00:00<00:00, 127.43it/s]"
     ]
    },
    {
     "name": "stdout",
     "output_type": "stream",
     "text": [
      "MAE: 1.3179\n",
      "RMSE: 3.0424\n"
     ]
    },
    {
     "name": "stderr",
     "output_type": "stream",
     "text": [
      "\n"
     ]
    }
   ],
   "source": [
    "evaluation(X[extreme_high], X_hat_gan[extreme_high])\n",
    "evaluation(X[extreme_high], X_hat_vae[extreme_high])\n",
    "evaluation(X[extreme_high], X_hat_nf[extreme_high])\n",
    "evaluation(X[extreme_high], X_hat_diff_base[extreme_high])\n",
    "evaluation(X[extreme_high], X_hat_diff_phy[extreme_high])"
   ]
  }
 ],
 "metadata": {
  "kernelspec": {
   "display_name": "shaorong",
   "language": "python",
   "name": "python3"
  },
  "language_info": {
   "codemirror_mode": {
    "name": "ipython",
    "version": 3
   },
   "file_extension": ".py",
   "mimetype": "text/x-python",
   "name": "python",
   "nbconvert_exporter": "python",
   "pygments_lexer": "ipython3",
   "version": "3.10.13"
  }
 },
 "nbformat": 4,
 "nbformat_minor": 2
}
